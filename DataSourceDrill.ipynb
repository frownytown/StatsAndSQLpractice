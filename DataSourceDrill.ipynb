{
 "cells": [
  {
   "cell_type": "code",
   "execution_count": 1,
   "metadata": {},
   "outputs": [],
   "source": [
    "#1\n",
    "# This one has the obvious shortcoming of it being christmas eve, as well as possibly the short coming of scraping only\n",
    "# airbnb data, considering the question asks only for \"what are the popular neighborhoods\" its hard to say that airbnb data \n",
    "# would answer this. I might try something like real estate data or some sort of measure of pedestrian traffic to determine\n",
    "# neighborhood popularity"
   ]
  },
  {
   "cell_type": "code",
   "execution_count": 2,
   "metadata": {},
   "outputs": [],
   "source": [
    "#2\n",
    "# This data has the problem of being right after the September 11th attacks in New York, You would want to spread your\n",
    "# data across a longer period of time in order to get a good look at this question."
   ]
  },
  {
   "cell_type": "code",
   "execution_count": null,
   "metadata": {},
   "outputs": [],
   "source": [
    "#3\n",
    "# This data appears to be mainly from young people / students. Generalizing the results across all Armenians would be\n",
    "# a mistake, but it looks pretty good for drawing a conclusion about why 18 - 23 year old Armenians go to pubs."
   ]
  }
 ],
 "metadata": {
  "kernelspec": {
   "display_name": "Python 3",
   "language": "python",
   "name": "python3"
  },
  "language_info": {
   "codemirror_mode": {
    "name": "ipython",
    "version": 3
   },
   "file_extension": ".py",
   "mimetype": "text/x-python",
   "name": "python",
   "nbconvert_exporter": "python",
   "pygments_lexer": "ipython3",
   "version": "3.7.1"
  }
 },
 "nbformat": 4,
 "nbformat_minor": 2
}
