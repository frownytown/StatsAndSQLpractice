{
 "cells": [
  {
   "cell_type": "code",
   "execution_count": 2,
   "metadata": {},
   "outputs": [],
   "source": [
    "import numpy as np\n",
    "import matplotlib.pyplot as plt\n",
    "%matplotlib inline"
   ]
  },
  {
   "cell_type": "code",
   "execution_count": 17,
   "metadata": {},
   "outputs": [
    {
     "data": {
      "text/plain": [
       "<matplotlib.lines.Line2D at 0x130d110>"
      ]
     },
     "execution_count": 17,
     "metadata": {},
     "output_type": "execute_result"
    },
    {
     "data": {
      "image/png": "[encoded data removed]",
      "text/plain": [
       "<Figure size 432x288 with 1 Axes>"
      ]
     },
     "metadata": {
      "needs_background": "light"
     },
     "output_type": "display_data"
    }
   ],
   "source": [
    "binomial = np.random.binomial(500, .5, 100)\n",
    "plt.hist(binomial)\n",
    "# adding line at the mean\n",
    "plt.axvline(binomial.mean(), color='b', linestyle='solid', linewidth=2)\n",
    "# adding lines 1 std from the mean\n",
    "plt.axvline(binomial.mean() + binomial.std(), color='b', linestyle='dashed', linewidth=2)\n",
    "plt.axvline(binomial.mean() - binomial.std(), color='b', linestyle='dashed', linewidth=2)"
   ]
  },
  {
   "cell_type": "code",
   "execution_count": 18,
   "metadata": {},
   "outputs": [],
   "source": [
    "# Here I show the binomial distribution of the number of successes I would\n",
    "# most likely have after 500 trials I think this description is useful"
   ]
  },
  {
   "cell_type": "code",
   "execution_count": 23,
   "metadata": {},
   "outputs": [
    {
     "data": {
      "text/plain": [
       "<matplotlib.lines.Line2D at 0x16736d0>"
      ]
     },
     "execution_count": 23,
     "metadata": {},
     "output_type": "execute_result"
    },
    {
     "data": {
      "image/png": "[encoded data removed]",
      "text/plain": [
       "<Figure size 432x288 with 1 Axes>"
      ]
     },
     "metadata": {
      "needs_background": "light"
     },
     "output_type": "display_data"
    }
   ],
   "source": [
    "poisson = np.random.poisson(5, 100)\n",
    "plt.hist(poisson)\n",
    "# adding line at the mean\n",
    "plt.axvline(poisson.mean(), color='b', linestyle='solid', linewidth=2)\n",
    "# adding lines 1 std from the mean\n",
    "plt.axvline(poisson.mean() + poisson.std(), color='b', linestyle='dashed', linewidth=2)\n",
    "plt.axvline(poisson.mean() - poisson.std(), color='b', linestyle='dashed', linewidth=2)"
   ]
  },
  {
   "cell_type": "code",
   "execution_count": 22,
   "metadata": {},
   "outputs": [],
   "source": [
    "# Poisson distribution appears to be quite similar to our binomial distribution"
   ]
  },
  {
   "cell_type": "code",
   "execution_count": 24,
   "metadata": {},
   "outputs": [
    {
     "data": {
      "text/plain": [
       "<matplotlib.lines.Line2D at 0x16b3df0>"
      ]
     },
     "execution_count": 24,
     "metadata": {},
     "output_type": "execute_result"
    },
    {
     "data": {
      "image/png": "[encoded data removed]",
      "text/plain": [
       "<Figure size 432x288 with 1 Axes>"
      ]
     },
     "metadata": {
      "needs_background": "light"
     },
     "output_type": "display_data"
    }
   ],
   "source": [
    "chisquare = np.random.chisquare(1, 100)\n",
    "plt.hist(chisquare)\n",
    "# adding line at the mean\n",
    "plt.axvline(chisquare.mean(), color='b', linestyle='solid', linewidth=2)\n",
    "# adding lines 1 std from the mean\n",
    "plt.axvline(chisquare.mean() + chisquare.std(), color='b', linestyle='dashed', linewidth=2)\n",
    "plt.axvline(chisquare.mean() - chisquare.std(), color='b', linestyle='dashed', linewidth=2)"
   ]
  },
  {
   "cell_type": "code",
   "execution_count": 25,
   "metadata": {},
   "outputs": [],
   "source": [
    "# Im not sure how useful this one is, it seems to indicate most data\n",
    "# is below the mean"
   ]
  },
  {
   "cell_type": "code",
   "execution_count": 26,
   "metadata": {},
   "outputs": [
    {
     "data": {
      "text/plain": [
       "<matplotlib.lines.Line2D at 0x1706270>"
      ]
     },
     "execution_count": 26,
     "metadata": {},
     "output_type": "execute_result"
    },
    {
     "data": {
      "image/png": "[encoded data removed]",
      "text/plain": [
       "<Figure size 432x288 with 1 Axes>"
      ]
     },
     "metadata": {
      "needs_background": "light"
     },
     "output_type": "display_data"
    }
   ],
   "source": [
    "logistic = np.random.logistic(0, 1, 100)\n",
    "plt.hist(logistic)\n",
    "# adding line at the mean\n",
    "plt.axvline(logistic.mean(), color='b', linestyle='solid', linewidth=2)\n",
    "# adding lines 1 std from the mean\n",
    "plt.axvline(logistic.mean() + logistic.std(), color='b', linestyle='dashed', linewidth=2)\n",
    "plt.axvline(logistic.mean() - logistic.std(), color='b', linestyle='dashed', linewidth=2)"
   ]
  },
  {
   "cell_type": "code",
   "execution_count": 27,
   "metadata": {},
   "outputs": [],
   "source": [
    "# This SEEMS to do a good job of representing the data"
   ]
  },
  {
   "cell_type": "code",
   "execution_count": 29,
   "metadata": {},
   "outputs": [
    {
     "data": {
      "text/plain": [
       "<matplotlib.lines.Line2D at 0x17586b0>"
      ]
     },
     "execution_count": 29,
     "metadata": {},
     "output_type": "execute_result"
    },
    {
     "data": {
      "image/png": "[encoded data removed]",
      "text/plain": [
       "<Figure size 432x288 with 1 Axes>"
      ]
     },
     "metadata": {
      "needs_background": "light"
     },
     "output_type": "display_data"
    }
   ],
   "source": [
    "logseries = np.random.logseries(.5, 100)\n",
    "plt.hist(logseries)\n",
    "# adding line at the mean\n",
    "plt.axvline(logseries.mean(), color='b', linestyle='solid', linewidth=2)\n",
    "# adding lines 1 std from the mean\n",
    "plt.axvline(logseries.mean() + logseries.std(), color='b', linestyle='dashed', linewidth=2)\n",
    "plt.axvline(logseries.mean() - logseries.std(), color='b', linestyle='dashed', linewidth=2)"
   ]
  },
  {
   "cell_type": "code",
   "execution_count": 30,
   "metadata": {},
   "outputs": [],
   "source": [
    "# THe log series distribution does not seem to be a good representation of the data"
   ]
  },
  {
   "cell_type": "code",
   "execution_count": 31,
   "metadata": {},
   "outputs": [
    {
     "data": {
      "text/plain": [
       "<matplotlib.lines.Line2D at 0x17a0e10>"
      ]
     },
     "execution_count": 31,
     "metadata": {},
     "output_type": "execute_result"
    },
    {
     "data": {
      "image/png": "[encoded data removed]",
      "text/plain": [
       "<Figure size 432x288 with 1 Axes>"
      ]
     },
     "metadata": {
      "needs_background": "light"
     },
     "output_type": "display_data"
    }
   ],
   "source": [
    "pareto = np.random.pareto(1, 100)\n",
    "plt.hist(pareto)\n",
    "# adding line at the mean\n",
    "plt.axvline(pareto.mean(), color='b', linestyle='solid', linewidth=2)\n",
    "# adding lines 1 std from the mean\n",
    "plt.axvline(pareto.mean() + pareto.std(), color='b', linestyle='dashed', linewidth=2)\n",
    "plt.axvline(pareto.mean() - pareto.std(), color='b', linestyle='dashed', linewidth=2)"
   ]
  },
  {
   "cell_type": "code",
   "execution_count": 32,
   "metadata": {},
   "outputs": [],
   "source": [
    "# The pareto distribution also does not seem to be a good fit"
   ]
  },
  {
   "cell_type": "code",
   "execution_count": 33,
   "metadata": {},
   "outputs": [
    {
     "data": {
      "text/plain": [
       "<matplotlib.lines.Line2D at 0x5058d10>"
      ]
     },
     "execution_count": 33,
     "metadata": {},
     "output_type": "execute_result"
    },
    {
     "data": {
      "image/png": "[encoded data removed]",
      "text/plain": [
       "<Figure size 432x288 with 1 Axes>"
      ]
     },
     "metadata": {
      "needs_background": "light"
     },
     "output_type": "display_data"
    }
   ],
   "source": [
    "normal1 = np.random.normal(5, 0.5, 100)\n",
    "normal2 = np.random.normal(10, 1, 100)\n",
    "added = normal1 + normal2\n",
    "plt.hist(added)\n",
    "# adding line at the mean\n",
    "plt.axvline(added.mean(), color='b', linestyle='solid', linewidth=2)\n",
    "# adding lines 1 std from the mean\n",
    "plt.axvline(added.mean() + added.std(), color='b', linestyle='dashed', linewidth=2)\n",
    "plt.axvline(added.mean() - added.std(), color='b', linestyle='dashed', linewidth=2)"
   ]
  },
  {
   "cell_type": "code",
   "execution_count": null,
   "metadata": {},
   "outputs": [],
   "source": [
    "# This one seems like when you add toggether 2 normally distributed\n",
    "# sets of data you get a third set with some skew"
   ]
  }
 ],
 "metadata": {
  "kernelspec": {
   "display_name": "Python 3",
   "language": "python",
   "name": "python3"
  },
  "language_info": {
   "codemirror_mode": {
    "name": "ipython",
    "version": 3
   },
   "file_extension": ".py",
   "mimetype": "text/x-python",
   "name": "python",
   "nbconvert_exporter": "python",
   "pygments_lexer": "ipython3",
   "version": "3.7.1"
  }
 },
 "nbformat": 4,
 "nbformat_minor": 2
}
