{
 "cells": [
  {
   "cell_type": "code",
   "execution_count": 14,
   "metadata": {},
   "outputs": [
    {
     "name": "stdout",
     "output_type": "stream",
     "text": [
      "mean: 9.857142857142858\n",
      "median: 10.0\n",
      "mode: 0    8\n",
      "dtype: int64\n",
      "var: 7.476190476190475\n",
      "std: 2.734262327610589\n",
      "standard error: 1.0334540197243192\n"
     ]
    }
   ],
   "source": [
    "#1\n",
    "import statistics\n",
    "import pandas as pd\n",
    "import numpy as np\n",
    "%matplotlib inline\n",
    "\n",
    "df = pd.DataFrame()\n",
    "\n",
    "df['data'] = [14, 12, 11, 10, 8, 8, 6]\n",
    "\n",
    "print(\"mean: \" + str(df.data.mean()))\n",
    "print(\"median: \" + str(df.data.median()))\n",
    "print(\"mode: \" + str(df.data.mode()))\n",
    "print(\"var: \" + str(df.data.var()))\n",
    "print(\"std: \" + str(df.data.std()))\n",
    "print(\"standard error: \" + str(np.std(df['data'] ,ddof=1) / np.sqrt(len(df['data']))))\n"
   ]
  },
  {
   "cell_type": "code",
   "execution_count": 10,
   "metadata": {},
   "outputs": [],
   "source": [
    "#2\n",
    "# I would chose to use the mean as my measure of central tendency, and my choice \n",
    "# of variance would be standard deviation because we can get a good picture of \n",
    "# the data and see that the upper and lower end ages are nearly 2 standard\n",
    "# deviations away form the mean."
   ]
  },
  {
   "cell_type": "code",
   "execution_count": 13,
   "metadata": {},
   "outputs": [
    {
     "name": "stdout",
     "output_type": "stream",
     "text": [
      "mean: 10.0\n",
      "median: 10.0\n",
      "mode: 0    8\n",
      "dtype: int64\n",
      "var: 6.333333333333333\n",
      "std: 2.516611478423583\n",
      "standard error: 0.9511897312113418\n"
     ]
    }
   ],
   "source": [
    "#3\n",
    "df = pd.DataFrame()\n",
    "\n",
    "df['data'] = [14, 12, 11, 10, 8, 8, 7]\n",
    "\n",
    "print(\"mean: \" + str(df.data.mean()))\n",
    "print(\"median: \" + str(df.data.median()))\n",
    "print(\"mode: \" + str(df.data.mode()))\n",
    "print(\"var: \" + str(df.data.var()))\n",
    "print(\"std: \" + str(df.data.std()))\n",
    "print(\"standard error: \" + str(np.std(df['data'] ,ddof=1) / np.sqrt(len(df['data']))))\n"
   ]
  },
  {
   "cell_type": "code",
   "execution_count": 12,
   "metadata": {},
   "outputs": [],
   "source": [
    "#3\n",
    "# The main thing that changed is that the variance went down but most other \n",
    "# things changed only minutely, median is the only thing that literally didnt \n",
    "# change is the median, while the others values shifted slightly"
   ]
  },
  {
   "cell_type": "code",
   "execution_count": 15,
   "metadata": {},
   "outputs": [
    {
     "name": "stdout",
     "output_type": "stream",
     "text": [
      "mean: 9.0\n",
      "median: 10.0\n",
      "mode: 0     1\n",
      "1     7\n",
      "2     8\n",
      "3    10\n",
      "4    11\n",
      "5    12\n",
      "6    14\n",
      "dtype: int64\n",
      "var: 18.0\n",
      "std: 4.242640687119285\n",
      "standard error: 1.6035674514745462\n"
     ]
    }
   ],
   "source": [
    "#4\n",
    "df = pd.DataFrame()\n",
    "\n",
    "df['data'] = [14, 12, 11, 10, 8, 1, 7]\n",
    "\n",
    "print(\"mean: \" + str(df.data.mean()))\n",
    "print(\"median: \" + str(df.data.median()))\n",
    "print(\"mode: \" + str(df.data.mode()))\n",
    "print(\"var: \" + str(df.data.var()))\n",
    "print(\"std: \" + str(df.data.std()))\n",
    "print(\"standard error: \" + str(np.std(df['data'] ,ddof=1) / np.sqrt(len(df['data']))))\n"
   ]
  },
  {
   "cell_type": "code",
   "execution_count": 16,
   "metadata": {},
   "outputs": [],
   "source": [
    "#4 \n",
    "# I think I would continue to use mean as my measure of central tendency\n",
    "# but I would change my variance estimate to use the variance so that I could\n",
    "# show just how much variance there is in the data"
   ]
  },
  {
   "cell_type": "code",
   "execution_count": 20,
   "metadata": {},
   "outputs": [
    {
     "name": "stdout",
     "output_type": "stream",
     "text": [
      "16.25\n"
     ]
    }
   ],
   "source": [
    "#5\n",
    "foo = pd.DataFrame()\n",
    "foo['poll_data'] = [20, 23, 17, 5]\n",
    "print(str(foo.poll_data.mean()))"
   ]
  },
  {
   "cell_type": "code",
   "execution_count": null,
   "metadata": {},
   "outputs": [],
   "source": [
    "#5 I would estimate around 16.5% of americans were brady bunch fans"
   ]
  }
 ],
 "metadata": {
  "kernelspec": {
   "display_name": "Python 3",
   "language": "python",
   "name": "python3"
  },
  "language_info": {
   "codemirror_mode": {
    "name": "ipython",
    "version": 3
   },
   "file_extension": ".py",
   "mimetype": "text/x-python",
   "name": "python",
   "nbconvert_exporter": "python",
   "pygments_lexer": "ipython3",
   "version": "3.7.1"
  }
 },
 "nbformat": 4,
 "nbformat_minor": 2
}
